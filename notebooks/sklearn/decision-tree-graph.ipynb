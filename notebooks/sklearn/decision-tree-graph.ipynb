{
 "cells": [
  {
   "cell_type": "code",
   "execution_count": 2,
   "id": "afd4d8c4-7395-481d-9afa-6864b91da6eb",
   "metadata": {},
   "outputs": [],
   "source": [
    "import pydotplus\n",
    "from sklearn.datasets import load_iris\n",
    "from sklearn import tree\n",
    "import collections"
   ]
  },
  {
   "cell_type": "code",
   "execution_count": 3,
   "id": "bf605395-ca35-4860-a35d-3d24ba1e3040",
   "metadata": {},
   "outputs": [],
   "source": [
    "# Data Collection\n",
    "#heigh, length of hair, voice pitch\n",
    "X = [ [180, 15,0],     \n",
    "      [177, 42,0],\n",
    "      [136, 35,1],\n",
    "      [174, 65,0],\n",
    "      [141, 28,1]]"
   ]
  },
  {
   "cell_type": "code",
   "execution_count": 4,
   "id": "06252665-5264-479c-95c1-2592ed260380",
   "metadata": {},
   "outputs": [],
   "source": [
    "Y = ['man', 'woman', 'woman', 'man', 'woman']    \n",
    " \n",
    "data_feature_names = [ 'height', 'hair length', 'voice pitch' ]"
   ]
  },
  {
   "cell_type": "code",
   "execution_count": 5,
   "id": "6c17c9a9-a6dc-4c67-9d94-4fa1e9c134e4",
   "metadata": {},
   "outputs": [
    {
     "name": "stdout",
     "output_type": "stream",
     "text": [
      "['height', 'hair length', 'voice pitch']\n"
     ]
    }
   ],
   "source": [
    "print(data_feature_names)"
   ]
  },
  {
   "cell_type": "code",
   "execution_count": 6,
   "id": "f5d78998-f891-47af-9f70-988882e77b86",
   "metadata": {},
   "outputs": [],
   "source": [
    "# Training\n",
    "clf = tree.DecisionTreeClassifier()\n",
    "clf = clf.fit(X,Y)"
   ]
  },
  {
   "cell_type": "code",
   "execution_count": 7,
   "id": "b771e74c-8d6e-4c89-ad72-b6003f9a462f",
   "metadata": {},
   "outputs": [],
   "source": [
    "# Visualize data\n",
    "dot_data = tree.export_graphviz(clf,\n",
    "                                feature_names=data_feature_names,\n",
    "                                out_file=None,\n",
    "                                filled=True,\n",
    "                                rounded=True)\n",
    "graph = pydotplus.graph_from_dot_data(dot_data)"
   ]
  },
  {
   "cell_type": "code",
   "execution_count": 8,
   "id": "1225ea24-826f-444d-a6ae-7d62a1d8c06a",
   "metadata": {},
   "outputs": [],
   "source": [
    "colors = ('turquoise', 'orange')\n",
    "edges = collections.defaultdict(list)"
   ]
  },
  {
   "cell_type": "code",
   "execution_count": 9,
   "id": "292f6f05-4c7e-462a-9724-b07baadeb763",
   "metadata": {},
   "outputs": [],
   "source": [
    "for edge in graph.get_edge_list():\n",
    "    edges[edge.get_source()].append(int(edge.get_destination()))"
   ]
  },
  {
   "cell_type": "code",
   "execution_count": 10,
   "id": "c4b8e9a9-f891-450b-a30e-85d9597a6c9c",
   "metadata": {},
   "outputs": [],
   "source": [
    "for edge in edges:\n",
    "    edges[edge].sort()    \n",
    "    for i in range(2):\n",
    "        dest = graph.get_node(str(edges[edge][i]))[0]\n",
    "        dest.set_fillcolor(colors[i])"
   ]
  },
  {
   "cell_type": "code",
   "execution_count": 11,
   "id": "8e19439c-0f88-4325-ac5e-204ad3afacfa",
   "metadata": {},
   "outputs": [
    {
     "data": {
      "text/plain": [
       "<pydotplus.graphviz.Dot at 0x7fd45eaf28e0>"
      ]
     },
     "execution_count": 11,
     "metadata": {},
     "output_type": "execute_result"
    }
   ],
   "source": [
    "graph"
   ]
  },
  {
   "cell_type": "code",
   "execution_count": null,
   "id": "9c158556-03b9-4825-b4f1-c8f645c01642",
   "metadata": {},
   "outputs": [],
   "source": []
  }
 ],
 "metadata": {
  "kernelspec": {
   "display_name": "Python 3",
   "language": "python",
   "name": "python3"
  },
  "language_info": {
   "codemirror_mode": {
    "name": "ipython",
    "version": 3
   },
   "file_extension": ".py",
   "mimetype": "text/x-python",
   "name": "python",
   "nbconvert_exporter": "python",
   "pygments_lexer": "ipython3",
   "version": "3.8.5"
  }
 },
 "nbformat": 4,
 "nbformat_minor": 5
}
