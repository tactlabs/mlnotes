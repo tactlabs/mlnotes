{
 "cells": [
  {
   "cell_type": "code",
   "execution_count": 1,
   "id": "d9072efe-c538-4c4a-9c6f-da5e9cc0db10",
   "metadata": {},
   "outputs": [],
   "source": [
    "import re"
   ]
  },
  {
   "cell_type": "code",
   "execution_count": 2,
   "id": "fdada5c0-f4c8-418e-929b-15824efc841b",
   "metadata": {},
   "outputs": [
    {
     "name": "stdout",
     "output_type": "stream",
     "text": [
      "matched :  M2N1H5\n",
      "matched :  M2N 1H5\n"
     ]
    }
   ],
   "source": [
    "names = ['M2N1H5', 'M2N 1H5', 'M882J8']\n",
    "\n",
    "regex_patten = \"^[A-Z]\\d[A-Z]\\s*\\d[A-Z]\\d\"\n",
    "# starts with Capital letter; it can have zero or one space\n",
    "\n",
    "for name in names:\n",
    "    m = re.match(regex_patten, name)\n",
    "\n",
    "    if(m):\n",
    "        #print(m.groups())\n",
    "        print('matched : ', name)"
   ]
  },
  {
   "cell_type": "code",
   "execution_count": 4,
   "id": "dca3959c-7257-44be-8c25-0ecf867cb9c0",
   "metadata": {},
   "outputs": [],
   "source": [
    "\n",
    "# \\d - digit\n",
    "# \\D - non-digit\n",
    "# \\s - whitespace\n",
    "# \\S - non-whitespace\n",
    "# \\w - alphanumeric\n",
    "# \\W - non-alphanumeric"
   ]
  },
  {
   "cell_type": "code",
   "execution_count": null,
   "id": "0d8e9c15-ee10-4f14-9c09-32e7e6cf1963",
   "metadata": {},
   "outputs": [],
   "source": []
  },
  {
   "cell_type": "code",
   "execution_count": null,
   "id": "1ef52c72-6638-4328-9c2a-ca54d7bb7d8d",
   "metadata": {},
   "outputs": [],
   "source": []
  },
  {
   "cell_type": "code",
   "execution_count": null,
   "id": "512b8608-e76f-4f23-98e9-a5c17d9e0ca7",
   "metadata": {},
   "outputs": [],
   "source": []
  }
 ],
 "metadata": {
  "kernelspec": {
   "display_name": "Python 3 (ipykernel)",
   "language": "python",
   "name": "python3"
  },
  "language_info": {
   "codemirror_mode": {
    "name": "ipython",
    "version": 3
   },
   "file_extension": ".py",
   "mimetype": "text/x-python",
   "name": "python",
   "nbconvert_exporter": "python",
   "pygments_lexer": "ipython3",
   "version": "3.8.12"
  }
 },
 "nbformat": 4,
 "nbformat_minor": 5
}
