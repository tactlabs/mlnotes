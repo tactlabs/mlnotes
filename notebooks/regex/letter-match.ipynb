{
 "cells": [
  {
   "cell_type": "code",
   "execution_count": 1,
   "id": "933e8d26-c67c-4fd7-bb48-141b6f4e7b85",
   "metadata": {},
   "outputs": [],
   "source": [
    "import re"
   ]
  },
  {
   "cell_type": "code",
   "execution_count": 2,
   "id": "7845ec3f-5813-4cff-8e7c-b4049e677e0f",
   "metadata": {},
   "outputs": [],
   "source": [
    "contents = [\n",
    "    \"AB23\",\n",
    "    \"A2B3\", \n",
    "    \"DE09\",\n",
    "    \"MN90\",\n",
    "    \"XYi9\",\n",
    "    \"XY90\"\n",
    "]"
   ]
  },
  {
   "cell_type": "code",
   "execution_count": 3,
   "id": "cfd3a454-878c-49a7-8b92-832ded8b7667",
   "metadata": {},
   "outputs": [
    {
     "name": "stdout",
     "output_type": "stream",
     "text": [
      "matched : AB23\n",
      "matched : DE09\n",
      "matched : XY90\n"
     ]
    }
   ],
   "source": [
    "for content in contents:\n",
    "    regex_pattern = \"(?:AB|DE|XY)\\d+\" \n",
    "    # starts with AB or DE; should contain one or more number\n",
    "\n",
    "    m = re.match(regex_pattern, content)\n",
    "\n",
    "    if(m):\n",
    "        print('matched : '+content)"
   ]
  },
  {
   "cell_type": "code",
   "execution_count": null,
   "id": "1b5b37e2-80e6-40e1-a9bb-88c4eb9f2511",
   "metadata": {},
   "outputs": [],
   "source": []
  }
 ],
 "metadata": {
  "kernelspec": {
   "display_name": "Python 3 (ipykernel)",
   "language": "python",
   "name": "python3"
  },
  "language_info": {
   "codemirror_mode": {
    "name": "ipython",
    "version": 3
   },
   "file_extension": ".py",
   "mimetype": "text/x-python",
   "name": "python",
   "nbconvert_exporter": "python",
   "pygments_lexer": "ipython3",
   "version": "3.8.12"
  }
 },
 "nbformat": 4,
 "nbformat_minor": 5
}
