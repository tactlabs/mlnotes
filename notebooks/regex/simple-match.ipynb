{
 "cells": [
  {
   "cell_type": "code",
   "execution_count": 1,
   "id": "ebd630e3-55ef-435c-8b69-d1ca596eb40d",
   "metadata": {},
   "outputs": [],
   "source": [
    "import re\n"
   ]
  },
  {
   "cell_type": "code",
   "execution_count": 2,
   "id": "de6a3c7d-8861-4a47-8a58-643edaf14217",
   "metadata": {},
   "outputs": [],
   "source": [
    "content = \"Eminem means positive\""
   ]
  },
  {
   "cell_type": "code",
   "execution_count": 3,
   "id": "3c344e1a-d928-4b87-8d1e-a45c4a24dd22",
   "metadata": {},
   "outputs": [],
   "source": [
    "a = re.search('^Em.*ve$', content)"
   ]
  },
  {
   "cell_type": "code",
   "execution_count": 4,
   "id": "4651a443-76ed-49d2-9008-91ae58f40743",
   "metadata": {},
   "outputs": [
    {
     "name": "stdout",
     "output_type": "stream",
     "text": [
      "matched\n"
     ]
    }
   ],
   "source": [
    "if(a):\n",
    "    print('matched')\n",
    "else:\n",
    "    print('not matched')"
   ]
  },
  {
   "cell_type": "code",
   "execution_count": 5,
   "id": "289439a5-166b-4715-a855-bfee099a891b",
   "metadata": {},
   "outputs": [],
   "source": [
    "# More situations\n",
    "\n",
    "# Match Canadian postal code\n",
    "# Phone number\n",
    "# Start with /home\n",
    "# Contains /User/raja"
   ]
  },
  {
   "cell_type": "code",
   "execution_count": null,
   "id": "484ad4d5-1dc6-44b3-b10d-a6d1c46fc3a1",
   "metadata": {},
   "outputs": [],
   "source": []
  }
 ],
 "metadata": {
  "kernelspec": {
   "display_name": "Python 3 (ipykernel)",
   "language": "python",
   "name": "python3"
  },
  "language_info": {
   "codemirror_mode": {
    "name": "ipython",
    "version": 3
   },
   "file_extension": ".py",
   "mimetype": "text/x-python",
   "name": "python",
   "nbconvert_exporter": "python",
   "pygments_lexer": "ipython3",
   "version": "3.8.12"
  }
 },
 "nbformat": 4,
 "nbformat_minor": 5
}
