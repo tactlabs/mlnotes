{
 "cells": [
  {
   "cell_type": "code",
   "execution_count": 1,
   "id": "fcef4747-cb6d-4ee6-9001-7162af758709",
   "metadata": {},
   "outputs": [],
   "source": [
    "import re"
   ]
  },
  {
   "cell_type": "code",
   "execution_count": 2,
   "id": "4d2522fb-2a61-47e7-ab0c-2efbad09c5c0",
   "metadata": {},
   "outputs": [
    {
     "name": "stdout",
     "output_type": "stream",
     "text": [
      "['21', '30']\n"
     ]
    }
   ],
   "source": [
    "text = \"It happened on Feb 21 at 3:30\"\n",
    "\n",
    "answer= re.findall(r'\\b\\d{2}\\b', text)\n",
    "print(answer)"
   ]
  },
  {
   "cell_type": "code",
   "execution_count": 3,
   "id": "c73db3e5-6e1d-4dd4-941d-2a1be638961e",
   "metadata": {},
   "outputs": [],
   "source": [
    "# To match only two digits with spaces\n",
    "answers = re.findall(r'\\s\\d{2}\\s', text)\n"
   ]
  },
  {
   "cell_type": "code",
   "execution_count": 4,
   "id": "68ef06b3-bb8c-493d-a67a-771c80de3fa5",
   "metadata": {},
   "outputs": [
    {
     "name": "stdout",
     "output_type": "stream",
     "text": [
      "21\n"
     ]
    }
   ],
   "source": [
    "for a in answers:\n",
    "    print(a.strip())"
   ]
  },
  {
   "cell_type": "code",
   "execution_count": 8,
   "id": "95342ad1-bd8a-472b-9500-fce67c5caa67",
   "metadata": {},
   "outputs": [],
   "source": [
    "# To do\n",
    "# Find 3:30 or 3.30 or 3-30 alone"
   ]
  },
  {
   "cell_type": "code",
   "execution_count": null,
   "id": "0bc63982-4bd5-42d1-b4b2-0f184b0fe683",
   "metadata": {},
   "outputs": [],
   "source": []
  }
 ],
 "metadata": {
  "kernelspec": {
   "display_name": "Python 3 (ipykernel)",
   "language": "python",
   "name": "python3"
  },
  "language_info": {
   "codemirror_mode": {
    "name": "ipython",
    "version": 3
   },
   "file_extension": ".py",
   "mimetype": "text/x-python",
   "name": "python",
   "nbconvert_exporter": "python",
   "pygments_lexer": "ipython3",
   "version": "3.8.12"
  }
 },
 "nbformat": 4,
 "nbformat_minor": 5
}
