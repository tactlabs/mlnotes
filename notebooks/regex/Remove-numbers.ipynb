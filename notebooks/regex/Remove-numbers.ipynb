{
 "cells": [
  {
   "cell_type": "code",
   "execution_count": 1,
   "id": "969230e9-33cf-40af-a099-50b8649336d6",
   "metadata": {
    "jupyter": {
     "source_hidden": true
    },
    "tags": []
   },
   "outputs": [],
   "source": [
    "content = '15. TFRecord in Tensorflow'"
   ]
  },
  {
   "cell_type": "code",
   "execution_count": 2,
   "id": "fdc2def7-d1ea-44c3-a1df-a77ab691eff9",
   "metadata": {},
   "outputs": [
    {
     "data": {
      "text/plain": [
       "'15. TFRecord in Tensorflow'"
      ]
     },
     "execution_count": 2,
     "metadata": {},
     "output_type": "execute_result"
    }
   ],
   "source": [
    "content"
   ]
  },
  {
   "cell_type": "code",
   "execution_count": 3,
   "id": "3cd03c4f-31e8-45e6-b78d-a06012bc78a9",
   "metadata": {},
   "outputs": [],
   "source": [
    "import re"
   ]
  },
  {
   "cell_type": "code",
   "execution_count": 4,
   "id": "dd88d5bd-71d8-467f-a958-1c0e4898cd9a",
   "metadata": {},
   "outputs": [],
   "source": [
    "result = re.sub(r'\\d+\\.', '', content)"
   ]
  },
  {
   "cell_type": "code",
   "execution_count": 5,
   "id": "28d76556-27a2-498d-a321-99b9aed0f5e7",
   "metadata": {},
   "outputs": [
    {
     "data": {
      "text/plain": [
       "'TFRecord in Tensorflow'"
      ]
     },
     "execution_count": 5,
     "metadata": {},
     "output_type": "execute_result"
    }
   ],
   "source": [
    "result.strip()"
   ]
  },
  {
   "cell_type": "code",
   "execution_count": 6,
   "id": "f139eb5f-db64-4d2b-b9cf-3654e5b6c4a4",
   "metadata": {},
   "outputs": [],
   "source": [
    "content2 = \"\"\"1. Cross Entropy Loss Derivation\n",
    "\n",
    "2. How to split a tensorflow model into two parts?\n",
    "\n",
    "3. RNN Text Generation with Eager Execution\n",
    "\n",
    "4. Softmax activation in Tensor\"\"\""
   ]
  },
  {
   "cell_type": "code",
   "execution_count": 7,
   "id": "b5264ccb-7f14-4acf-a702-7f873183eb15",
   "metadata": {},
   "outputs": [
    {
     "data": {
      "text/plain": [
       "'1. Cross Entropy Loss Derivation\\n\\n2. How to split a tensorflow model into two parts?\\n\\n3. RNN Text Generation with Eager Execution\\n\\n4. Softmax activation in Tensor'"
      ]
     },
     "execution_count": 7,
     "metadata": {},
     "output_type": "execute_result"
    }
   ],
   "source": [
    "content2"
   ]
  },
  {
   "cell_type": "code",
   "execution_count": 8,
   "id": "12d27bf4-f7cd-4668-8b2d-3124cd050eca",
   "metadata": {},
   "outputs": [],
   "source": [
    "result2 = re.sub(r'\\d+\\.', '', content2)"
   ]
  },
  {
   "cell_type": "code",
   "execution_count": 9,
   "id": "fa2d2c36-14bb-48cd-ac43-c7650108f904",
   "metadata": {},
   "outputs": [
    {
     "data": {
      "text/plain": [
       "'Cross Entropy Loss Derivation\\n\\n How to split a tensorflow model into two parts?\\n\\n RNN Text Generation with Eager Execution\\n\\n Softmax activation in Tensor'"
      ]
     },
     "execution_count": 9,
     "metadata": {},
     "output_type": "execute_result"
    }
   ],
   "source": [
    "result2.strip()"
   ]
  },
  {
   "cell_type": "code",
   "execution_count": 10,
   "id": "f6f63788-8ef5-40b6-aed7-420175948fb1",
   "metadata": {},
   "outputs": [
    {
     "name": "stdout",
     "output_type": "stream",
     "text": [
      "Cross Entropy Loss Derivation\n",
      "\n",
      "How to split a tensorflow model into two parts?\n",
      "\n",
      "RNN Text Generation with Eager Execution\n",
      "\n",
      "Softmax activation in Tensor\n"
     ]
    }
   ],
   "source": [
    "for c in result2.strip().split('\\n'):\n",
    "    print(c.strip())"
   ]
  },
  {
   "cell_type": "code",
   "execution_count": null,
   "id": "a76019c4-9ed7-4721-bad5-53103010451f",
   "metadata": {},
   "outputs": [],
   "source": []
  }
 ],
 "metadata": {
  "kernelspec": {
   "display_name": "Python 3 (ipykernel)",
   "language": "python",
   "name": "python3"
  },
  "language_info": {
   "codemirror_mode": {
    "name": "ipython",
    "version": 3
   },
   "file_extension": ".py",
   "mimetype": "text/x-python",
   "name": "python",
   "nbconvert_exporter": "python",
   "pygments_lexer": "ipython3",
   "version": "3.8.12"
  }
 },
 "nbformat": 4,
 "nbformat_minor": 5
}
