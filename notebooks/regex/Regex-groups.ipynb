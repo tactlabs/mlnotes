{
 "cells": [
  {
   "cell_type": "code",
   "execution_count": 1,
   "id": "e4e49e39-63cc-435f-8844-ab736801277d",
   "metadata": {},
   "outputs": [],
   "source": [
    "import re"
   ]
  },
  {
   "cell_type": "code",
   "execution_count": 2,
   "id": "7bf7d806-bbbc-4c1f-883c-66e6349251eb",
   "metadata": {},
   "outputs": [
    {
     "name": "stdout",
     "output_type": "stream",
     "text": [
      "()\n",
      "matched :  A2B8\n"
     ]
    }
   ],
   "source": [
    "names = ['A2B8']\n",
    "\n",
    "for name in names:\n",
    "    m = re.match(\"^[A-Z]\\d[A-Z]\\d\", name)\n",
    "\n",
    "    if(m):\n",
    "        print(m.groups())\n",
    "        print('matched : ', name)"
   ]
  },
  {
   "cell_type": "code",
   "execution_count": null,
   "id": "960b91b5-ff69-48d3-ab0c-91b8e71ada79",
   "metadata": {},
   "outputs": [],
   "source": []
  }
 ],
 "metadata": {
  "kernelspec": {
   "display_name": "Python 3 (ipykernel)",
   "language": "python",
   "name": "python3"
  },
  "language_info": {
   "codemirror_mode": {
    "name": "ipython",
    "version": 3
   },
   "file_extension": ".py",
   "mimetype": "text/x-python",
   "name": "python",
   "nbconvert_exporter": "python",
   "pygments_lexer": "ipython3",
   "version": "3.8.12"
  }
 },
 "nbformat": 4,
 "nbformat_minor": 5
}
