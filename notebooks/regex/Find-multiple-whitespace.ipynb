{
 "cells": [
  {
   "cell_type": "code",
   "execution_count": 1,
   "id": "8504ac33-1ead-4db3-9dd7-f0070ef09659",
   "metadata": {},
   "outputs": [],
   "source": [
    "import re"
   ]
  },
  {
   "cell_type": "code",
   "execution_count": 2,
   "id": "f997881f-89bc-4075-9275-1e7e3c7025cd",
   "metadata": {},
   "outputs": [
    {
     "name": "stdout",
     "output_type": "stream",
     "text": [
      "Help on function split in module re:\n",
      "\n",
      "split(pattern, string, maxsplit=0, flags=0)\n",
      "    Split the source string by the occurrences of the pattern,\n",
      "    returning a list containing the resulting substrings.  If\n",
      "    capturing parentheses are used in pattern, then the text of all\n",
      "    groups in the pattern are also returned as part of the resulting\n",
      "    list.  If maxsplit is nonzero, at most maxsplit splits occur,\n",
      "    and the remainder of the string is returned as the final element\n",
      "    of the list.\n",
      "\n"
     ]
    }
   ],
   "source": [
    "help(re.split)"
   ]
  },
  {
   "cell_type": "code",
   "execution_count": 3,
   "id": "92ff46fc-2630-49b2-af54-bb1adb3465c7",
   "metadata": {},
   "outputs": [
    {
     "data": {
      "text/plain": [
       "['2012.03.04', 'check everything', 'status: OK']"
      ]
     },
     "execution_count": 3,
     "metadata": {},
     "output_type": "execute_result"
    }
   ],
   "source": [
    "re.split(r'\\s{2,}', \"2012.03.04       check everything      status: OK\")"
   ]
  },
  {
   "cell_type": "code",
   "execution_count": 4,
   "id": "b6996e1b-f7d7-45ae-87b6-234d7ea25846",
   "metadata": {},
   "outputs": [],
   "source": [
    "content = \"2012.03.04       check everything      status: OK\"\n"
   ]
  },
  {
   "cell_type": "code",
   "execution_count": 5,
   "id": "4690ed15-87ba-4c83-a317-05259b6bcdf6",
   "metadata": {},
   "outputs": [
    {
     "data": {
      "text/plain": [
       "'2012.03.04       check everything      status: OK'"
      ]
     },
     "execution_count": 5,
     "metadata": {},
     "output_type": "execute_result"
    }
   ],
   "source": [
    "content"
   ]
  },
  {
   "cell_type": "code",
   "execution_count": 6,
   "id": "7e8e7c06-cc53-4223-910a-930193796e25",
   "metadata": {},
   "outputs": [],
   "source": [
    "list = re.split(r'\\s{2,}', content)"
   ]
  },
  {
   "cell_type": "code",
   "execution_count": 7,
   "id": "1c71dfb0-0679-4307-931d-d5d67d0dcc16",
   "metadata": {},
   "outputs": [
    {
     "name": "stdout",
     "output_type": "stream",
     "text": [
      "2012.03.04\n",
      "check everything\n",
      "status: OK\n"
     ]
    }
   ],
   "source": [
    "for a in list:\n",
    "    print(a)"
   ]
  },
  {
   "cell_type": "code",
   "execution_count": null,
   "id": "c95bf821-bc60-425a-840b-ee438e730689",
   "metadata": {},
   "outputs": [],
   "source": []
  }
 ],
 "metadata": {
  "kernelspec": {
   "display_name": "Python 3 (ipykernel)",
   "language": "python",
   "name": "python3"
  },
  "language_info": {
   "codemirror_mode": {
    "name": "ipython",
    "version": 3
   },
   "file_extension": ".py",
   "mimetype": "text/x-python",
   "name": "python",
   "nbconvert_exporter": "python",
   "pygments_lexer": "ipython3",
   "version": "3.8.12"
  }
 },
 "nbformat": 4,
 "nbformat_minor": 5
}
