{
 "cells": [
  {
   "cell_type": "code",
   "execution_count": 1,
   "id": "34c37cf8-33e5-49be-a704-741979de5d8e",
   "metadata": {},
   "outputs": [],
   "source": [
    "content = \"This device is costing only 12.89$. This is fantastic!\""
   ]
  },
  {
   "cell_type": "code",
   "execution_count": 2,
   "id": "ead3b71e-b461-4c91-b7d3-4610173cd0dc",
   "metadata": {},
   "outputs": [
    {
     "data": {
      "text/plain": [
       "'This device is costing only 12.89$. This is fantastic!'"
      ]
     },
     "execution_count": 2,
     "metadata": {},
     "output_type": "execute_result"
    }
   ],
   "source": [
    "content"
   ]
  },
  {
   "cell_type": "code",
   "execution_count": 3,
   "id": "431e4b3e-6d79-4d57-96e5-3fed0fe7963e",
   "metadata": {},
   "outputs": [],
   "source": [
    "import re\n"
   ]
  },
  {
   "cell_type": "code",
   "execution_count": 4,
   "id": "fe09eeb3-6961-41bc-a432-0290014efc8c",
   "metadata": {},
   "outputs": [
    {
     "data": {
      "text/plain": [
       "'This device is costing only 12 89   This is fantastic '"
      ]
     },
     "execution_count": 4,
     "metadata": {},
     "output_type": "execute_result"
    }
   ],
   "source": [
    "re.sub(r'[^\\w]', ' ', content)"
   ]
  },
  {
   "cell_type": "code",
   "execution_count": 5,
   "id": "570a884d-ce97-4631-ad4a-a59967960ebe",
   "metadata": {},
   "outputs": [],
   "source": [
    "# Note:\n",
    "\n",
    "# \\w will match alphanumeric characters and underscores\n",
    "\n",
    "# \\w\n",
    "# will match anything that’s not alphanumeric or underscore"
   ]
  },
  {
   "cell_type": "code",
   "execution_count": null,
   "id": "9cbef6c6-299f-4c5b-a51d-cd0eeaee48c4",
   "metadata": {},
   "outputs": [],
   "source": []
  }
 ],
 "metadata": {
  "kernelspec": {
   "display_name": "Python 3 (ipykernel)",
   "language": "python",
   "name": "python3"
  },
  "language_info": {
   "codemirror_mode": {
    "name": "ipython",
    "version": 3
   },
   "file_extension": ".py",
   "mimetype": "text/x-python",
   "name": "python",
   "nbconvert_exporter": "python",
   "pygments_lexer": "ipython3",
   "version": "3.8.12"
  }
 },
 "nbformat": 4,
 "nbformat_minor": 5
}
