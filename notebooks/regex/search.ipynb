{
 "cells": [
  {
   "cell_type": "code",
   "execution_count": 1,
   "id": "6ba5fd12-01d3-4f11-bf25-d46292b98969",
   "metadata": {},
   "outputs": [],
   "source": [
    "import re"
   ]
  },
  {
   "cell_type": "code",
   "execution_count": 2,
   "id": "812083c4-1461-42da-a0bc-0ee559dca0a7",
   "metadata": {},
   "outputs": [],
   "source": [
    "data = [\n",
    "    \"name['toronto'] = 'One'\",\n",
    "    \"state['ontario'] = 'Two'\",\n",
    "    \"country['canada']['ca'] = 'Three'\",\n",
    "    \"extra['maple'] = 'Four'\"\n",
    "]"
   ]
  },
  {
   "cell_type": "code",
   "execution_count": 3,
   "id": "0bc35b88-90d7-47fe-9e50-a7820ef87d0a",
   "metadata": {},
   "outputs": [],
   "source": [
    "REGEX = re.compile(r\"\\['(?P<word>.*?)'\\]\")"
   ]
  },
  {
   "cell_type": "code",
   "execution_count": 4,
   "id": "b90d3a17-e3e8-441d-a8b0-21fd9dc5ac17",
   "metadata": {},
   "outputs": [
    {
     "name": "stdout",
     "output_type": "stream",
     "text": [
      "toronto\n",
      "ontario\n",
      "canada\n",
      "maple\n"
     ]
    }
   ],
   "source": [
    "for line in data:\n",
    "    found = REGEX.search(line)\n",
    "    if found:\n",
    "        print(found.group('word'))"
   ]
  },
  {
   "cell_type": "code",
   "execution_count": null,
   "id": "c63e64ff-cddd-437f-ae37-936d169cd4c4",
   "metadata": {},
   "outputs": [],
   "source": []
  }
 ],
 "metadata": {
  "kernelspec": {
   "display_name": "Python 3 (ipykernel)",
   "language": "python",
   "name": "python3"
  },
  "language_info": {
   "codemirror_mode": {
    "name": "ipython",
    "version": 3
   },
   "file_extension": ".py",
   "mimetype": "text/x-python",
   "name": "python",
   "nbconvert_exporter": "python",
   "pygments_lexer": "ipython3",
   "version": "3.8.12"
  }
 },
 "nbformat": 4,
 "nbformat_minor": 5
}
