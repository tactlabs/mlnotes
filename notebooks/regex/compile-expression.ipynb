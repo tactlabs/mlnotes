{
 "cells": [
  {
   "cell_type": "code",
   "execution_count": 1,
   "id": "ad59ef94-15a9-4fac-a9ff-bf65e9bca804",
   "metadata": {},
   "outputs": [],
   "source": [
    "import re"
   ]
  },
  {
   "cell_type": "code",
   "execution_count": 2,
   "id": "fc1f3597-3982-40db-a9ab-ea29b713fb98",
   "metadata": {},
   "outputs": [],
   "source": [
    "# precompile regex patterns\n",
    "regex_entries = [\n",
    "    re.compile(p)\n",
    "    for p in ['awesome', 'ocean']\n",
    "]"
   ]
  },
  {
   "cell_type": "code",
   "execution_count": 3,
   "id": "66bda9c8-152e-4850-b4e0-2fb0bf10d21c",
   "metadata": {},
   "outputs": [
    {
     "name": "stdout",
     "output_type": "stream",
     "text": [
      "Text : 'Duckduck go is awesome and it is getting better everyday'\n"
     ]
    }
   ],
   "source": [
    "content = 'Duckduck go is awesome and it is getting better everyday'\n",
    "\n",
    "print('Text : {!r}'.format(content))"
   ]
  },
  {
   "cell_type": "code",
   "execution_count": 4,
   "id": "af80c670-fb8f-4311-8d20-62ab502d46dc",
   "metadata": {},
   "outputs": [
    {
     "name": "stdout",
     "output_type": "stream",
     "text": [
      "Finding  awesome ->  matched\n",
      "Finding  ocean ->  not matched\n"
     ]
    }
   ],
   "source": [
    "for regex in regex_entries:\n",
    "    print('Finding  {} -> '.format(regex.pattern), end = ' ')\n",
    "\n",
    "    if(regex.search(content)):\n",
    "        print('matched')\n",
    "    else:\n",
    "        print('not matched')"
   ]
  },
  {
   "cell_type": "code",
   "execution_count": null,
   "id": "852df8be-8515-4357-b9fb-c82cf96f9b75",
   "metadata": {},
   "outputs": [],
   "source": []
  },
  {
   "cell_type": "code",
   "execution_count": null,
   "id": "cbdbd48d-d8a7-4085-9162-7648f1c27ea4",
   "metadata": {},
   "outputs": [],
   "source": []
  }
 ],
 "metadata": {
  "kernelspec": {
   "display_name": "Python 3 (ipykernel)",
   "language": "python",
   "name": "python3"
  },
  "language_info": {
   "codemirror_mode": {
    "name": "ipython",
    "version": 3
   },
   "file_extension": ".py",
   "mimetype": "text/x-python",
   "name": "python",
   "nbconvert_exporter": "python",
   "pygments_lexer": "ipython3",
   "version": "3.8.12"
  }
 },
 "nbformat": 4,
 "nbformat_minor": 5
}
