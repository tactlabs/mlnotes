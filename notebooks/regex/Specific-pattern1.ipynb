{
 "cells": [
  {
   "cell_type": "code",
   "execution_count": 1,
   "id": "97640e81-71d7-4d14-b2d1-223b8d453f62",
   "metadata": {},
   "outputs": [],
   "source": [
    "import re"
   ]
  },
  {
   "cell_type": "code",
   "execution_count": 2,
   "id": "663eba24-de6a-4754-a46e-2de2ece94b09",
   "metadata": {},
   "outputs": [
    {
     "name": "stdout",
     "output_type": "stream",
     "text": [
      "[]\n"
     ]
    }
   ],
   "source": [
    "fn = \"DC_QnA_bo_v.15.12.3_DE_duplicates.xlsx\"\n",
    "rgx = re.compile('\\b_[A-Z]{2}\\b')\n",
    "print(re.findall(rgx, fn))"
   ]
  },
  {
   "cell_type": "code",
   "execution_count": 3,
   "id": "12056f8d-e201-4baa-a6d3-82c0f6d0c9fa",
   "metadata": {},
   "outputs": [
    {
     "name": "stdout",
     "output_type": "stream",
     "text": [
      "['DE']\n"
     ]
    }
   ],
   "source": [
    "rgx = re.compile('(?<=_)[A-Z]+(?=_)')\n",
    "print(re.findall(rgx, fn))"
   ]
  },
  {
   "cell_type": "code",
   "execution_count": null,
   "id": "1220a18c-6943-4917-afaa-6b75181ea844",
   "metadata": {},
   "outputs": [],
   "source": []
  }
 ],
 "metadata": {
  "kernelspec": {
   "display_name": "Python 3 (ipykernel)",
   "language": "python",
   "name": "python3"
  },
  "language_info": {
   "codemirror_mode": {
    "name": "ipython",
    "version": 3
   },
   "file_extension": ".py",
   "mimetype": "text/x-python",
   "name": "python",
   "nbconvert_exporter": "python",
   "pygments_lexer": "ipython3",
   "version": "3.8.12"
  }
 },
 "nbformat": 4,
 "nbformat_minor": 5
}
