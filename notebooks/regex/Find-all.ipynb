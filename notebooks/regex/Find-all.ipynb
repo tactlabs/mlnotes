{
 "cells": [
  {
   "cell_type": "code",
   "execution_count": 1,
   "id": "4afb5adf-f348-4264-b754-8ceddd3776f1",
   "metadata": {},
   "outputs": [],
   "source": [
    "content = \"\"\"OSPF Process 1 with Router ID 1.1.1.1\n",
    "                       Area: 0.0.0.11\n",
    "               Link State Database  \n",
    "               Router test \n",
    "               Maintenance\n",
    "\"\"\""
   ]
  },
  {
   "cell_type": "code",
   "execution_count": 2,
   "id": "df6c60a4-b00c-4ab6-9c79-3a3e9b27cf3b",
   "metadata": {},
   "outputs": [
    {
     "data": {
      "text/plain": [
       "'OSPF Process 1 with Router ID 1.1.1.1\\n                       Area: 0.0.0.11\\n               Link State Database  \\n               Router test \\n               Maintenance\\n'"
      ]
     },
     "execution_count": 2,
     "metadata": {},
     "output_type": "execute_result"
    }
   ],
   "source": [
    "content"
   ]
  },
  {
   "cell_type": "code",
   "execution_count": 3,
   "id": "828ce491-92a9-423d-aeea-16342a1fb267",
   "metadata": {},
   "outputs": [
    {
     "name": "stdout",
     "output_type": "stream",
     "text": [
      "['OSPF Process 1 with Router ID 1.1.1.1', '                       Area: 0.0.0.11', '               Link State Database  ', '               Router test ', '               Maintenance', '']\n"
     ]
    }
   ],
   "source": [
    "import re\n",
    "\n",
    "regex = \"OSPF|Area|Link\"\n",
    "\n",
    "lines = content.split(\"\\n\")\n",
    "\n",
    "print(lines)"
   ]
  },
  {
   "cell_type": "code",
   "execution_count": 4,
   "id": "f365b165-5907-4925-8ce4-73c0a83e91fe",
   "metadata": {},
   "outputs": [
    {
     "name": "stdout",
     "output_type": "stream",
     "text": [
      "OSPF Process 1 with Router ID 1.1.1.1\n",
      "                       Area: 0.0.0.11\n",
      "               Link State Database  \n",
      "               Router test \n",
      "               Maintenance\n",
      "\n"
     ]
    }
   ],
   "source": [
    "for line in lines:\n",
    "    print(line)\n",
    "    "
   ]
  },
  {
   "cell_type": "code",
   "execution_count": 5,
   "id": "9322640e-be59-4e8c-b442-df88f06320b9",
   "metadata": {},
   "outputs": [
    {
     "name": "stdout",
     "output_type": "stream",
     "text": [
      "               Router test \n",
      "               Maintenance\n",
      "\n"
     ]
    }
   ],
   "source": [
    "for line in lines:\n",
    "    if not re.findall(regex, line):\n",
    "        print(line)"
   ]
  },
  {
   "cell_type": "code",
   "execution_count": null,
   "id": "47366df1-1257-4360-901d-e7ed41c8841d",
   "metadata": {},
   "outputs": [],
   "source": []
  },
  {
   "cell_type": "code",
   "execution_count": null,
   "id": "6cbccade-566c-41d7-8ce3-0a0e98729cd1",
   "metadata": {},
   "outputs": [],
   "source": []
  }
 ],
 "metadata": {
  "kernelspec": {
   "display_name": "Python 3 (ipykernel)",
   "language": "python",
   "name": "python3"
  },
  "language_info": {
   "codemirror_mode": {
    "name": "ipython",
    "version": 3
   },
   "file_extension": ".py",
   "mimetype": "text/x-python",
   "name": "python",
   "nbconvert_exporter": "python",
   "pygments_lexer": "ipython3",
   "version": "3.8.12"
  }
 },
 "nbformat": 4,
 "nbformat_minor": 5
}
