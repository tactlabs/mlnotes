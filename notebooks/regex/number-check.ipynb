{
 "cells": [
  {
   "cell_type": "code",
   "execution_count": 1,
   "id": "22c787f3-1d61-42aa-8323-0a35211ecda1",
   "metadata": {},
   "outputs": [],
   "source": [
    "import re"
   ]
  },
  {
   "cell_type": "code",
   "execution_count": 2,
   "id": "e6bb1567-dfa9-4024-8288-f4dd81388869",
   "metadata": {},
   "outputs": [
    {
     "name": "stdout",
     "output_type": "stream",
     "text": [
      "not matched\n"
     ]
    }
   ],
   "source": [
    "pattern = re.compile(\"^([0-9]+)+$\")\n",
    "\n",
    "content  = \"s23434\"\n",
    "\n",
    "if(pattern.match(content)):\n",
    "    print(pattern.match(content).pos)\n",
    "else:\n",
    "    print('not matched')"
   ]
  },
  {
   "cell_type": "code",
   "execution_count": 3,
   "id": "f5d3001f-cab7-4c4b-a6f0-132ba0da3909",
   "metadata": {},
   "outputs": [
    {
     "name": "stdout",
     "output_type": "stream",
     "text": [
      "matched at :  0\n"
     ]
    }
   ],
   "source": [
    "content  = \"23434\"\n",
    "\n",
    "if(pattern.match(content)):\n",
    "    print('matched at : ', pattern.match(content).pos)\n",
    "else:\n",
    "    print('not matched')"
   ]
  },
  {
   "cell_type": "code",
   "execution_count": null,
   "id": "44c8950c-c6f4-4896-8c4d-5c384548ba93",
   "metadata": {},
   "outputs": [],
   "source": []
  }
 ],
 "metadata": {
  "kernelspec": {
   "display_name": "Python 3 (ipykernel)",
   "language": "python",
   "name": "python3"
  },
  "language_info": {
   "codemirror_mode": {
    "name": "ipython",
    "version": 3
   },
   "file_extension": ".py",
   "mimetype": "text/x-python",
   "name": "python",
   "nbconvert_exporter": "python",
   "pygments_lexer": "ipython3",
   "version": "3.8.12"
  }
 },
 "nbformat": 4,
 "nbformat_minor": 5
}
