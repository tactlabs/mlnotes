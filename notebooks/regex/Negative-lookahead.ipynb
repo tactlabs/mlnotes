{
 "cells": [
  {
   "cell_type": "code",
   "execution_count": 1,
   "id": "0ccbb291-4958-4145-98e7-4b2292af2091",
   "metadata": {},
   "outputs": [],
   "source": [
    "import re"
   ]
  },
  {
   "cell_type": "code",
   "execution_count": 2,
   "id": "d319867e-1db0-4d06-a48c-5267e1096299",
   "metadata": {},
   "outputs": [],
   "source": [
    "test = [ ('i sure like eating pie, but i love donuts', True),\n",
    "         ('i sure like eating pie, but i hate donuts', True),\n",
    "         ('i sure hate eating pie, but i like donuts', False) ]"
   ]
  },
  {
   "cell_type": "code",
   "execution_count": 3,
   "id": "bb811c79-50e8-437c-964f-fc3a781a7cd0",
   "metadata": {},
   "outputs": [
    {
     "name": "stdout",
     "output_type": "stream",
     "text": [
      "i sure like eating pie, but i love donuts ==> pass\n",
      "i sure like eating pie, but i hate donuts ==> pass\n",
      "i sure hate eating pie, but i like donuts ==> pass\n"
     ]
    }
   ],
   "source": [
    "rx = re.compile(r\"^i ((?!hate|pie).)* pie\", re.X)\n",
    "\n",
    "for t,v in test:\n",
    "    m = rx.match(t)\n",
    "    print(t, \"==>\", \"pass\" if bool(m) == v else \"fail\")"
   ]
  },
  {
   "cell_type": "code",
   "execution_count": null,
   "id": "4ee9ee6a-51ce-49d8-8743-7ea5f0cbc58a",
   "metadata": {},
   "outputs": [],
   "source": []
  }
 ],
 "metadata": {
  "kernelspec": {
   "display_name": "Python 3 (ipykernel)",
   "language": "python",
   "name": "python3"
  },
  "language_info": {
   "codemirror_mode": {
    "name": "ipython",
    "version": 3
   },
   "file_extension": ".py",
   "mimetype": "text/x-python",
   "name": "python",
   "nbconvert_exporter": "python",
   "pygments_lexer": "ipython3",
   "version": "3.8.12"
  }
 },
 "nbformat": 4,
 "nbformat_minor": 5
}
