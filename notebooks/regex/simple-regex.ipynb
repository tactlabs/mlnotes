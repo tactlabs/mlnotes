{
 "cells": [
  {
   "cell_type": "code",
   "execution_count": 1,
   "id": "5a9f18c4-c032-4298-94ab-64492e4d2ad9",
   "metadata": {},
   "outputs": [],
   "source": [
    "import re"
   ]
  },
  {
   "cell_type": "code",
   "execution_count": 3,
   "id": "5678f322-aa47-4b9d-a4a1-02b37f859da3",
   "metadata": {},
   "outputs": [
    {
     "name": "stdout",
     "output_type": "stream",
     "text": [
      "15 22\n"
     ]
    }
   ],
   "source": [
    "pattern = 'awesome'\n",
    "\n",
    "content = 'Duckduck go is awesome and it is getting better everyday'\n",
    "\n",
    "match = re.search(pattern, content)\n",
    "\n",
    "#print(match)\n",
    "\n",
    "start = match.start()\n",
    "end = match.end()\n",
    "\n",
    "#print(match.string)\n",
    "\n",
    "print(start, end)\n"
   ]
  },
  {
   "cell_type": "code",
   "execution_count": null,
   "id": "8c33b751-8675-477d-af7d-99d9dfdb9b7c",
   "metadata": {},
   "outputs": [],
   "source": []
  }
 ],
 "metadata": {
  "kernelspec": {
   "display_name": "Python 3 (ipykernel)",
   "language": "python",
   "name": "python3"
  },
  "language_info": {
   "codemirror_mode": {
    "name": "ipython",
    "version": 3
   },
   "file_extension": ".py",
   "mimetype": "text/x-python",
   "name": "python",
   "nbconvert_exporter": "python",
   "pygments_lexer": "ipython3",
   "version": "3.8.12"
  }
 },
 "nbformat": 4,
 "nbformat_minor": 5
}
