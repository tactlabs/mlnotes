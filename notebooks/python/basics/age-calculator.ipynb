{
 "cells": [
  {
   "cell_type": "code",
   "execution_count": 1,
   "id": "11b6b2b4-6d96-4c3d-b87c-6910f09c5930",
   "metadata": {},
   "outputs": [],
   "source": [
    "from datetime import datetime"
   ]
  },
  {
   "cell_type": "code",
   "execution_count": 2,
   "id": "346a1105-4801-4921-a8f5-f7168192082c",
   "metadata": {},
   "outputs": [],
   "source": [
    "def get_age(d):\n",
    "    d1 = datetime.now()\n",
    "    months = (d1.year - d.year) * 12 + d1.month - d.month\n",
    "\n",
    "    year = int(months / 12)\n",
    "    return year"
   ]
  },
  {
   "cell_type": "code",
   "execution_count": 3,
   "id": "cdebb4c5-1327-4806-b92b-6dc9f125c2e6",
   "metadata": {},
   "outputs": [],
   "source": [
    "age = get_age(datetime(1991, 1, 1))"
   ]
  },
  {
   "cell_type": "code",
   "execution_count": 4,
   "id": "5bd242d0-16fa-415d-adfe-136e9314ed5c",
   "metadata": {},
   "outputs": [
    {
     "data": {
      "text/plain": [
       "31"
      ]
     },
     "execution_count": 4,
     "metadata": {},
     "output_type": "execute_result"
    }
   ],
   "source": [
    "age"
   ]
  },
  {
   "cell_type": "code",
   "execution_count": null,
   "id": "4142f231-abad-43ea-8426-e880d09e349a",
   "metadata": {},
   "outputs": [],
   "source": []
  }
 ],
 "metadata": {
  "kernelspec": {
   "display_name": "Python 3",
   "language": "python",
   "name": "python3"
  },
  "language_info": {
   "codemirror_mode": {
    "name": "ipython",
    "version": 3
   },
   "file_extension": ".py",
   "mimetype": "text/x-python",
   "name": "python",
   "nbconvert_exporter": "python",
   "pygments_lexer": "ipython3",
   "version": "3.8.5"
  }
 },
 "nbformat": 4,
 "nbformat_minor": 5
}
