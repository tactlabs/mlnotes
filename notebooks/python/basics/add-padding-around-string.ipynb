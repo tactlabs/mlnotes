{
 "cells": [
  {
   "cell_type": "code",
   "execution_count": 2,
   "id": "7c45eb62-00ea-439a-b244-27fe5fdeb667",
   "metadata": {},
   "outputs": [],
   "source": [
    "text = 'Chapter 2'"
   ]
  },
  {
   "cell_type": "raw",
   "id": "80a1dcb7-83c5-4cd8-b247-3b495c417331",
   "metadata": {},
   "source": [
    "Add Padding Around Text"
   ]
  },
  {
   "cell_type": "code",
   "execution_count": 3,
   "id": "18985726-10d3-467e-b702-b92f5098f303",
   "metadata": {},
   "outputs": [
    {
     "data": {
      "text/plain": [
       "'           Chapter 2'"
      ]
     },
     "execution_count": 3,
     "metadata": {},
     "output_type": "execute_result"
    }
   ],
   "source": [
    "# Add Spaces Of Padding To The Left\n",
    "format(text, '>20')"
   ]
  },
  {
   "cell_type": "code",
   "execution_count": 4,
   "id": "b5e92313-c036-4aac-b631-3f344da53236",
   "metadata": {},
   "outputs": [
    {
     "data": {
      "text/plain": [
       "'Chapter 2           '"
      ]
     },
     "execution_count": 4,
     "metadata": {},
     "output_type": "execute_result"
    }
   ],
   "source": [
    "# Add Spaces Of Padding To The Right\n",
    "format(text, '<20')"
   ]
  },
  {
   "cell_type": "code",
   "execution_count": 5,
   "id": "0b9d9bb7-5762-49d3-ad7e-7f66db345f21",
   "metadata": {},
   "outputs": [
    {
     "data": {
      "text/plain": [
       "'     Chapter 2      '"
      ]
     },
     "execution_count": 5,
     "metadata": {},
     "output_type": "execute_result"
    }
   ],
   "source": [
    "# Add Spaces Of Padding On Each Side\n",
    "format(text, '^20')"
   ]
  },
  {
   "cell_type": "code",
   "execution_count": 6,
   "id": "e0eec832-fa54-4e6a-9b40-f53d73dd2fe7",
   "metadata": {},
   "outputs": [
    {
     "data": {
      "text/plain": [
       "'*****Chapter 2******'"
      ]
     },
     "execution_count": 6,
     "metadata": {},
     "output_type": "execute_result"
    }
   ],
   "source": [
    "# Add * Of Padding On Each Side\n",
    "format(text, '*^20')"
   ]
  },
  {
   "cell_type": "code",
   "execution_count": null,
   "id": "56eacaea-155a-44b5-8d69-2d6fd52a69f9",
   "metadata": {},
   "outputs": [],
   "source": []
  }
 ],
 "metadata": {
  "kernelspec": {
   "display_name": "Python 3",
   "language": "python",
   "name": "python3"
  },
  "language_info": {
   "codemirror_mode": {
    "name": "ipython",
    "version": 3
   },
   "file_extension": ".py",
   "mimetype": "text/x-python",
   "name": "python",
   "nbconvert_exporter": "python",
   "pygments_lexer": "ipython3",
   "version": "3.8.5"
  }
 },
 "nbformat": 4,
 "nbformat_minor": 5
}
