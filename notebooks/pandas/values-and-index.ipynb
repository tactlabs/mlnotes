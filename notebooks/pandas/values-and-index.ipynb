{
 "cells": [
  {
   "cell_type": "code",
   "execution_count": 1,
   "id": "c5bda9c0-ace4-4a20-bf8c-8c92e7356844",
   "metadata": {},
   "outputs": [],
   "source": [
    "import numpy as np\n",
    "import pandas as pd"
   ]
  },
  {
   "cell_type": "code",
   "execution_count": 2,
   "id": "dc97a29f-dc88-4c27-9aa4-b9afb022ec75",
   "metadata": {},
   "outputs": [],
   "source": [
    "datatype = [('one', 'int32'), ('two', 'int32')]"
   ]
  },
  {
   "cell_type": "code",
   "execution_count": 3,
   "id": "1ade90a5-2afc-4f50-ab60-7ce550a5698f",
   "metadata": {},
   "outputs": [],
   "source": [
    "values = np.zeros(3, dtype = datatype)"
   ]
  },
  {
   "cell_type": "code",
   "execution_count": 4,
   "id": "592e7188-15e2-4899-861d-a54406442e88",
   "metadata": {},
   "outputs": [],
   "source": [
    "currrent_index = ['Row '+str(i) for i in range(1, 4)]"
   ]
  },
  {
   "cell_type": "code",
   "execution_count": 5,
   "id": "9e360602-bf04-4919-95ab-80a31686fef6",
   "metadata": {},
   "outputs": [],
   "source": [
    "df = pd.DataFrame(values, index = currrent_index)"
   ]
  },
  {
   "cell_type": "code",
   "execution_count": 6,
   "id": "e254f232-c29b-4c3f-9c5d-f3b93bfa5dd8",
   "metadata": {},
   "outputs": [
    {
     "data": {
      "text/html": [
       "<div>\n",
       "<style scoped>\n",
       "    .dataframe tbody tr th:only-of-type {\n",
       "        vertical-align: middle;\n",
       "    }\n",
       "\n",
       "    .dataframe tbody tr th {\n",
       "        vertical-align: top;\n",
       "    }\n",
       "\n",
       "    .dataframe thead th {\n",
       "        text-align: right;\n",
       "    }\n",
       "</style>\n",
       "<table border=\"1\" class=\"dataframe\">\n",
       "  <thead>\n",
       "    <tr style=\"text-align: right;\">\n",
       "      <th></th>\n",
       "      <th>one</th>\n",
       "      <th>two</th>\n",
       "    </tr>\n",
       "  </thead>\n",
       "  <tbody>\n",
       "    <tr>\n",
       "      <th>Row 1</th>\n",
       "      <td>0</td>\n",
       "      <td>0</td>\n",
       "    </tr>\n",
       "    <tr>\n",
       "      <th>Row 2</th>\n",
       "      <td>0</td>\n",
       "      <td>0</td>\n",
       "    </tr>\n",
       "    <tr>\n",
       "      <th>Row 3</th>\n",
       "      <td>0</td>\n",
       "      <td>0</td>\n",
       "    </tr>\n",
       "  </tbody>\n",
       "</table>\n",
       "</div>"
      ],
      "text/plain": [
       "       one  two\n",
       "Row 1    0    0\n",
       "Row 2    0    0\n",
       "Row 3    0    0"
      ]
     },
     "execution_count": 6,
     "metadata": {},
     "output_type": "execute_result"
    }
   ],
   "source": [
    "df"
   ]
  },
  {
   "cell_type": "code",
   "execution_count": 7,
   "id": "4ba00e20-9150-4605-bab8-23efb2d2575c",
   "metadata": {},
   "outputs": [
    {
     "data": {
      "text/plain": [
       "(3, 2)"
      ]
     },
     "execution_count": 7,
     "metadata": {},
     "output_type": "execute_result"
    }
   ],
   "source": [
    "df.shape"
   ]
  },
  {
   "cell_type": "code",
   "execution_count": 8,
   "id": "ef07344d-a4ca-4f26-840e-1ce301abce72",
   "metadata": {},
   "outputs": [
    {
     "data": {
      "text/plain": [
       "2"
      ]
     },
     "execution_count": 8,
     "metadata": {},
     "output_type": "execute_result"
    }
   ],
   "source": [
    "df.ndim"
   ]
  },
  {
   "cell_type": "code",
   "execution_count": null,
   "id": "716d452c-3de8-413f-8075-6885f82c71de",
   "metadata": {},
   "outputs": [],
   "source": []
  }
 ],
 "metadata": {
  "kernelspec": {
   "display_name": "Python 3 (ipykernel)",
   "language": "python",
   "name": "python3"
  },
  "language_info": {
   "codemirror_mode": {
    "name": "ipython",
    "version": 3
   },
   "file_extension": ".py",
   "mimetype": "text/x-python",
   "name": "python",
   "nbconvert_exporter": "python",
   "pygments_lexer": "ipython3",
   "version": "3.8.12"
  }
 },
 "nbformat": 4,
 "nbformat_minor": 5
}
