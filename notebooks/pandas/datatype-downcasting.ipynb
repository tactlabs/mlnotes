{
 "cells": [
  {
   "cell_type": "code",
   "execution_count": 1,
   "id": "a1c0ecc1-da66-4d05-839a-4ebcd3f139cc",
   "metadata": {},
   "outputs": [],
   "source": [
    "import numpy as np\n",
    "import pandas as pd"
   ]
  },
  {
   "cell_type": "code",
   "execution_count": 2,
   "id": "4e20b3da-07d6-4524-b0bd-417e40617684",
   "metadata": {},
   "outputs": [],
   "source": [
    "ds = pd.Series([1, np.nan, 3, 4, 5])"
   ]
  },
  {
   "cell_type": "code",
   "execution_count": 3,
   "id": "52de0595-4346-41d9-9575-633003dbd96f",
   "metadata": {},
   "outputs": [
    {
     "data": {
      "text/plain": [
       "0    1.0\n",
       "1    NaN\n",
       "2    3.0\n",
       "3    4.0\n",
       "4    5.0\n",
       "dtype: float64"
      ]
     },
     "execution_count": 3,
     "metadata": {},
     "output_type": "execute_result"
    }
   ],
   "source": [
    "ds"
   ]
  },
  {
   "cell_type": "code",
   "execution_count": 4,
   "id": "cd0474ed-2440-4998-aed4-aebf90854b66",
   "metadata": {},
   "outputs": [],
   "source": [
    "# ds = ds.astype('int') # will throw ValueError: Cannot convert non-finite values (NA or inf) to integer"
   ]
  },
  {
   "cell_type": "code",
   "execution_count": 5,
   "id": "30160b43-641c-4992-a724-6da16689c77e",
   "metadata": {},
   "outputs": [],
   "source": [
    "ds = ds.astype('float')"
   ]
  },
  {
   "cell_type": "code",
   "execution_count": 6,
   "id": "8ae600fb-0246-4e67-895f-4887a9abbc80",
   "metadata": {},
   "outputs": [
    {
     "data": {
      "text/plain": [
       "0    1.0\n",
       "1    NaN\n",
       "2    3.0\n",
       "3    4.0\n",
       "4    5.0\n",
       "dtype: float64"
      ]
     },
     "execution_count": 6,
     "metadata": {},
     "output_type": "execute_result"
    }
   ],
   "source": [
    "ds"
   ]
  },
  {
   "cell_type": "code",
   "execution_count": 7,
   "id": "e9334e44-b577-4772-afcd-b8f21b91eefb",
   "metadata": {},
   "outputs": [],
   "source": [
    "ds = pd.to_numeric(ds, downcast='float')\n"
   ]
  },
  {
   "cell_type": "code",
   "execution_count": 8,
   "id": "fc1b431f-a3ef-4850-bbf4-d3412f496813",
   "metadata": {},
   "outputs": [
    {
     "data": {
      "text/plain": [
       "0    1.0\n",
       "1    NaN\n",
       "2    3.0\n",
       "3    4.0\n",
       "4    5.0\n",
       "dtype: float32"
      ]
     },
     "execution_count": 8,
     "metadata": {},
     "output_type": "execute_result"
    }
   ],
   "source": [
    "ds"
   ]
  },
  {
   "cell_type": "code",
   "execution_count": 9,
   "id": "86a4003d-b784-438f-837a-213cbfb32329",
   "metadata": {},
   "outputs": [],
   "source": [
    "# You could see the dtype chagend fro float64 to float32"
   ]
  },
  {
   "cell_type": "code",
   "execution_count": null,
   "id": "e23236b3-5e35-4e2c-9632-5a627749cc6f",
   "metadata": {},
   "outputs": [],
   "source": []
  }
 ],
 "metadata": {
  "kernelspec": {
   "display_name": "Python 3 (ipykernel)",
   "language": "python",
   "name": "python3"
  },
  "language_info": {
   "codemirror_mode": {
    "name": "ipython",
    "version": 3
   },
   "file_extension": ".py",
   "mimetype": "text/x-python",
   "name": "python",
   "nbconvert_exporter": "python",
   "pygments_lexer": "ipython3",
   "version": "3.8.12"
  }
 },
 "nbformat": 4,
 "nbformat_minor": 5
}
