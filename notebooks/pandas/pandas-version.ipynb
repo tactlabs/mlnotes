{
 "cells": [
  {
   "cell_type": "code",
   "execution_count": 1,
   "id": "712791e4-5ebf-484a-a951-69942ed50333",
   "metadata": {},
   "outputs": [],
   "source": [
    "import pandas as pd"
   ]
  },
  {
   "cell_type": "code",
   "execution_count": 2,
   "id": "9dfa242c-7319-4f3c-a200-35d12065f962",
   "metadata": {},
   "outputs": [
    {
     "data": {
      "text/plain": [
       "'1.3.5'"
      ]
     },
     "execution_count": 2,
     "metadata": {},
     "output_type": "execute_result"
    }
   ],
   "source": [
    "pd.__version__"
   ]
  },
  {
   "cell_type": "code",
   "execution_count": 3,
   "id": "77dc8c45-e104-4f95-b6e3-8cdc801a5f79",
   "metadata": {},
   "outputs": [
    {
     "name": "stdout",
     "output_type": "stream",
     "text": [
      "\n",
      "INSTALLED VERSIONS\n",
      "------------------\n",
      "commit           : 66e3805b8cabe977f40c05259cc3fcf7ead5687d\n",
      "python           : 3.8.12.final.0\n",
      "python-bits      : 64\n",
      "OS               : Linux\n",
      "OS-release       : 5.13.0-25-generic\n",
      "Version          : #26~20.04.1-Ubuntu SMP Fri Jan 7 16:27:40 UTC 2022\n",
      "machine          : x86_64\n",
      "processor        : x86_64\n",
      "byteorder        : little\n",
      "LC_ALL           : None\n",
      "LANG             : en_IN\n",
      "LOCALE           : en_IN.ISO8859-1\n",
      "\n",
      "pandas           : 1.3.5\n",
      "numpy            : 1.22.1\n",
      "pytz             : 2021.3\n",
      "dateutil         : 2.8.2\n",
      "pip              : 21.2.4\n",
      "setuptools       : 58.0.4\n",
      "Cython           : None\n",
      "pytest           : None\n",
      "hypothesis       : None\n",
      "sphinx           : None\n",
      "blosc            : None\n",
      "feather          : None\n",
      "xlsxwriter       : None\n",
      "lxml.etree       : None\n",
      "html5lib         : None\n",
      "pymysql          : None\n",
      "psycopg2         : None\n",
      "jinja2           : 3.0.3\n",
      "IPython          : 8.0.0\n",
      "pandas_datareader: None\n",
      "bs4              : None\n",
      "bottleneck       : None\n",
      "fsspec           : None\n",
      "fastparquet      : None\n",
      "gcsfs            : None\n",
      "matplotlib       : None\n",
      "numexpr          : None\n",
      "odfpy            : None\n",
      "openpyxl         : 3.0.9\n",
      "pandas_gbq       : None\n",
      "pyarrow          : None\n",
      "pyxlsb           : None\n",
      "s3fs             : None\n",
      "scipy            : None\n",
      "sqlalchemy       : None\n",
      "tables           : None\n",
      "tabulate         : None\n",
      "xarray           : None\n",
      "xlrd             : 2.0.1\n",
      "xlwt             : None\n",
      "numba            : None\n"
     ]
    }
   ],
   "source": [
    "pd.show_versions(as_json=False)"
   ]
  },
  {
   "cell_type": "code",
   "execution_count": 4,
   "id": "41506b28-e508-42c7-ae3d-e4e3da3be02d",
   "metadata": {},
   "outputs": [
    {
     "name": "stdout",
     "output_type": "stream",
     "text": [
      "{\n",
      "  \"system\": {\n",
      "    \"commit\": \"66e3805b8cabe977f40c05259cc3fcf7ead5687d\",\n",
      "    \"python\": \"3.8.12.final.0\",\n",
      "    \"python-bits\": 64,\n",
      "    \"OS\": \"Linux\",\n",
      "    \"OS-release\": \"5.13.0-25-generic\",\n",
      "    \"Version\": \"#26~20.04.1-Ubuntu SMP Fri Jan 7 16:27:40 UTC 2022\",\n",
      "    \"machine\": \"x86_64\",\n",
      "    \"processor\": \"x86_64\",\n",
      "    \"byteorder\": \"little\",\n",
      "    \"LC_ALL\": null,\n",
      "    \"LANG\": \"en_IN\",\n",
      "    \"LOCALE\": {\n",
      "      \"language-code\": \"en_IN\",\n",
      "      \"encoding\": \"ISO8859-1\"\n",
      "    }\n",
      "  },\n",
      "  \"dependencies\": {\n",
      "    \"pandas\": \"1.3.5\",\n",
      "    \"numpy\": \"1.22.1\",\n",
      "    \"pytz\": \"2021.3\",\n",
      "    \"dateutil\": \"2.8.2\",\n",
      "    \"pip\": \"21.2.4\",\n",
      "    \"setuptools\": \"58.0.4\",\n",
      "    \"Cython\": null,\n",
      "    \"pytest\": null,\n",
      "    \"hypothesis\": null,\n",
      "    \"sphinx\": null,\n",
      "    \"blosc\": null,\n",
      "    \"feather\": null,\n",
      "    \"xlsxwriter\": null,\n",
      "    \"lxml.etree\": null,\n",
      "    \"html5lib\": null,\n",
      "    \"pymysql\": null,\n",
      "    \"psycopg2\": null,\n",
      "    \"jinja2\": \"3.0.3\",\n",
      "    \"IPython\": \"8.0.0\",\n",
      "    \"pandas_datareader\": null,\n",
      "    \"bs4\": null,\n",
      "    \"bottleneck\": null,\n",
      "    \"fsspec\": null,\n",
      "    \"fastparquet\": null,\n",
      "    \"gcsfs\": null,\n",
      "    \"matplotlib\": null,\n",
      "    \"numexpr\": null,\n",
      "    \"odfpy\": null,\n",
      "    \"openpyxl\": \"3.0.9\",\n",
      "    \"pandas_gbq\": null,\n",
      "    \"pyarrow\": null,\n",
      "    \"pyxlsb\": null,\n",
      "    \"s3fs\": null,\n",
      "    \"scipy\": null,\n",
      "    \"sqlalchemy\": null,\n",
      "    \"tables\": null,\n",
      "    \"tabulate\": null,\n",
      "    \"xarray\": null,\n",
      "    \"xlrd\": \"2.0.1\",\n",
      "    \"xlwt\": null,\n",
      "    \"numba\": null\n",
      "  }\n",
      "}"
     ]
    }
   ],
   "source": [
    "pd.show_versions(as_json=True)"
   ]
  },
  {
   "cell_type": "code",
   "execution_count": 5,
   "id": "1344ff85-fbb1-48e5-ab64-52fb60e1a64f",
   "metadata": {},
   "outputs": [],
   "source": [
    "import pprint"
   ]
  },
  {
   "cell_type": "code",
   "execution_count": 6,
   "id": "7e84f3a9-7634-4cd0-a55d-d4d99671be05",
   "metadata": {},
   "outputs": [
    {
     "name": "stdout",
     "output_type": "stream",
     "text": [
      "{\n",
      "  \"system\": {\n",
      "    \"commit\": \"66e3805b8cabe977f40c05259cc3fcf7ead5687d\",\n",
      "    \"python\": \"3.8.12.final.0\",\n",
      "    \"python-bits\": 64,\n",
      "    \"OS\": \"Linux\",\n",
      "    \"OS-release\": \"5.13.0-25-generic\",\n",
      "    \"Version\": \"#26~20.04.1-Ubuntu SMP Fri Jan 7 16:27:40 UTC 2022\",\n",
      "    \"machine\": \"x86_64\",\n",
      "    \"processor\": \"x86_64\",\n",
      "    \"byteorder\": \"little\",\n",
      "    \"LC_ALL\": null,\n",
      "    \"LANG\": \"en_IN\",\n",
      "    \"LOCALE\": {\n",
      "      \"language-code\": \"en_IN\",\n",
      "      \"encoding\": \"ISO8859-1\"\n",
      "    }\n",
      "  },\n",
      "  \"dependencies\": {\n",
      "    \"pandas\": \"1.3.5\",\n",
      "    \"numpy\": \"1.22.1\",\n",
      "    \"pytz\": \"2021.3\",\n",
      "    \"dateutil\": \"2.8.2\",\n",
      "    \"pip\": \"21.2.4\",\n",
      "    \"setuptools\": \"58.0.4\",\n",
      "    \"Cython\": null,\n",
      "    \"pytest\": null,\n",
      "    \"hypothesis\": null,\n",
      "    \"sphinx\": null,\n",
      "    \"blosc\": null,\n",
      "    \"feather\": null,\n",
      "    \"xlsxwriter\": null,\n",
      "    \"lxml.etree\": null,\n",
      "    \"html5lib\": null,\n",
      "    \"pymysql\": null,\n",
      "    \"psycopg2\": null,\n",
      "    \"jinja2\": \"3.0.3\",\n",
      "    \"IPython\": \"8.0.0\",\n",
      "    \"pandas_datareader\": null,\n",
      "    \"bs4\": null,\n",
      "    \"bottleneck\": null,\n",
      "    \"fsspec\": null,\n",
      "    \"fastparquet\": null,\n",
      "    \"gcsfs\": null,\n",
      "    \"matplotlib\": null,\n",
      "    \"numexpr\": null,\n",
      "    \"odfpy\": null,\n",
      "    \"openpyxl\": \"3.0.9\",\n",
      "    \"pandas_gbq\": null,\n",
      "    \"pyarrow\": null,\n",
      "    \"pyxlsb\": null,\n",
      "    \"s3fs\": null,\n",
      "    \"scipy\": null,\n",
      "    \"sqlalchemy\": null,\n",
      "    \"tables\": null,\n",
      "    \"tabulate\": null,\n",
      "    \"xarray\": null,\n",
      "    \"xlrd\": \"2.0.1\",\n",
      "    \"xlwt\": null,\n",
      "    \"numba\": null\n",
      "  }\n",
      "}None\n"
     ]
    }
   ],
   "source": [
    "pprint.pprint(pd.show_versions(as_json=True))"
   ]
  },
  {
   "cell_type": "code",
   "execution_count": null,
   "id": "314bb090-8930-4d1c-ba6d-6619dd416b11",
   "metadata": {},
   "outputs": [],
   "source": []
  }
 ],
 "metadata": {
  "kernelspec": {
   "display_name": "Python 3 (ipykernel)",
   "language": "python",
   "name": "python3"
  },
  "language_info": {
   "codemirror_mode": {
    "name": "ipython",
    "version": 3
   },
   "file_extension": ".py",
   "mimetype": "text/x-python",
   "name": "python",
   "nbconvert_exporter": "python",
   "pygments_lexer": "ipython3",
   "version": "3.8.12"
  }
 },
 "nbformat": 4,
 "nbformat_minor": 5
}
