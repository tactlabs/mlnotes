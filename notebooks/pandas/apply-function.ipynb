{
 "cells": [
  {
   "cell_type": "code",
   "execution_count": 1,
   "id": "7a839311-5c23-434b-a9c8-57983888aa4d",
   "metadata": {},
   "outputs": [],
   "source": [
    "import pandas as pd"
   ]
  },
  {
   "cell_type": "code",
   "execution_count": 2,
   "id": "6e740089-dfb9-4d1b-87de-f527cb628590",
   "metadata": {},
   "outputs": [],
   "source": [
    "data = {\n",
    "    'city' : ['Toronto', 'Montreal', 'Waterloo', 'Toronto', 'Waterloo', 'Toronto', 'Toronto'],\n",
    "    'points' : [80, 70, 90, 85, 79, 82, 200]\n",
    "}"
   ]
  },
  {
   "cell_type": "code",
   "execution_count": 3,
   "id": "97d33d05-88ff-4bd7-b627-ba40b3b685bf",
   "metadata": {},
   "outputs": [
    {
     "data": {
      "text/plain": [
       "{'city': ['Toronto',\n",
       "  'Montreal',\n",
       "  'Waterloo',\n",
       "  'Toronto',\n",
       "  'Waterloo',\n",
       "  'Toronto',\n",
       "  'Toronto'],\n",
       " 'points': [80, 70, 90, 85, 79, 82, 200]}"
      ]
     },
     "execution_count": 3,
     "metadata": {},
     "output_type": "execute_result"
    }
   ],
   "source": [
    "data"
   ]
  },
  {
   "cell_type": "code",
   "execution_count": 4,
   "id": "a311c718-d5dc-4e31-ad6d-a23be05e3927",
   "metadata": {},
   "outputs": [
    {
     "data": {
      "text/plain": [
       "dict"
      ]
     },
     "execution_count": 4,
     "metadata": {},
     "output_type": "execute_result"
    }
   ],
   "source": [
    "type(data)"
   ]
  },
  {
   "cell_type": "code",
   "execution_count": 5,
   "id": "d26e002e-7a3a-41f6-b67c-5dee93af9855",
   "metadata": {},
   "outputs": [],
   "source": [
    "df = pd.DataFrame(data)"
   ]
  },
  {
   "cell_type": "code",
   "execution_count": 6,
   "id": "2160c51d-eca6-4210-9a8c-df59aa44c700",
   "metadata": {},
   "outputs": [
    {
     "data": {
      "text/plain": [
       "0     80.0\n",
       "1     70.0\n",
       "2     90.0\n",
       "3     85.0\n",
       "4     79.0\n",
       "5     82.0\n",
       "6    200.0\n",
       "Name: points, dtype: float64"
      ]
     },
     "execution_count": 6,
     "metadata": {},
     "output_type": "execute_result"
    }
   ],
   "source": [
    "df.groupby('city')['points'].apply(lambda x:x.rolling(window=1).mean())"
   ]
  },
  {
   "cell_type": "code",
   "execution_count": 7,
   "id": "e622f667-5ff7-4eac-ab6a-95bbd1dcacac",
   "metadata": {},
   "outputs": [
    {
     "data": {
      "text/plain": [
       "0      NaN\n",
       "1      NaN\n",
       "2      NaN\n",
       "3     82.5\n",
       "4     84.5\n",
       "5     83.5\n",
       "6    141.0\n",
       "Name: points, dtype: float64"
      ]
     },
     "execution_count": 7,
     "metadata": {},
     "output_type": "execute_result"
    }
   ],
   "source": [
    "df.groupby('city')['points'].apply(lambda x:x.rolling(window=2).mean())"
   ]
  },
  {
   "cell_type": "code",
   "execution_count": null,
   "id": "60cc886e-a668-4b5b-bca9-39b1d78c05a2",
   "metadata": {},
   "outputs": [],
   "source": []
  }
 ],
 "metadata": {
  "kernelspec": {
   "display_name": "Python 3",
   "language": "python",
   "name": "python3"
  },
  "language_info": {
   "codemirror_mode": {
    "name": "ipython",
    "version": 3
   },
   "file_extension": ".py",
   "mimetype": "text/x-python",
   "name": "python",
   "nbconvert_exporter": "python",
   "pygments_lexer": "ipython3",
   "version": "3.8.5"
  }
 },
 "nbformat": 4,
 "nbformat_minor": 5
}
