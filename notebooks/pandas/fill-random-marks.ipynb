{
 "cells": [
  {
   "cell_type": "code",
   "execution_count": 1,
   "id": "b0ba7794-4bbf-4e1b-8f28-62f7187d6de9",
   "metadata": {},
   "outputs": [],
   "source": [
    "import numpy as np\n",
    "import pandas as pd"
   ]
  },
  {
   "cell_type": "code",
   "execution_count": 2,
   "id": "2c4b4d35-5d22-4a2a-ac72-d970dec66153",
   "metadata": {},
   "outputs": [],
   "source": [
    "datatype = [('Science', 'int32'), ('Maths', 'int32')]"
   ]
  },
  {
   "cell_type": "code",
   "execution_count": 3,
   "id": "17107516-19a2-4751-84fa-9faacf6e194c",
   "metadata": {},
   "outputs": [],
   "source": [
    "current_values = np.zeros(3, dtype=datatype)"
   ]
  },
  {
   "cell_type": "code",
   "execution_count": 4,
   "id": "fdf4a3ac-76f1-4052-a24f-86af25604716",
   "metadata": {},
   "outputs": [],
   "source": [
    "current_index = ['Row '+str(i) for i in range(1, 4)]"
   ]
  },
  {
   "cell_type": "code",
   "execution_count": 5,
   "id": "c2725bec-3d4b-48d7-b36a-c5c1f9f4073e",
   "metadata": {},
   "outputs": [],
   "source": [
    "df = pd.DataFrame(current_values, index=current_index)"
   ]
  },
  {
   "cell_type": "code",
   "execution_count": 6,
   "id": "6ca655a1-e019-4b65-8388-b799b0453200",
   "metadata": {},
   "outputs": [
    {
     "data": {
      "text/html": [
       "<div>\n",
       "<style scoped>\n",
       "    .dataframe tbody tr th:only-of-type {\n",
       "        vertical-align: middle;\n",
       "    }\n",
       "\n",
       "    .dataframe tbody tr th {\n",
       "        vertical-align: top;\n",
       "    }\n",
       "\n",
       "    .dataframe thead th {\n",
       "        text-align: right;\n",
       "    }\n",
       "</style>\n",
       "<table border=\"1\" class=\"dataframe\">\n",
       "  <thead>\n",
       "    <tr style=\"text-align: right;\">\n",
       "      <th></th>\n",
       "      <th>Science</th>\n",
       "      <th>Maths</th>\n",
       "    </tr>\n",
       "  </thead>\n",
       "  <tbody>\n",
       "    <tr>\n",
       "      <th>Row 1</th>\n",
       "      <td>0</td>\n",
       "      <td>0</td>\n",
       "    </tr>\n",
       "    <tr>\n",
       "      <th>Row 2</th>\n",
       "      <td>0</td>\n",
       "      <td>0</td>\n",
       "    </tr>\n",
       "    <tr>\n",
       "      <th>Row 3</th>\n",
       "      <td>0</td>\n",
       "      <td>0</td>\n",
       "    </tr>\n",
       "  </tbody>\n",
       "</table>\n",
       "</div>"
      ],
      "text/plain": [
       "       Science  Maths\n",
       "Row 1        0      0\n",
       "Row 2        0      0\n",
       "Row 3        0      0"
      ]
     },
     "execution_count": 6,
     "metadata": {},
     "output_type": "execute_result"
    }
   ],
   "source": [
    "df"
   ]
  },
  {
   "cell_type": "code",
   "execution_count": 7,
   "id": "e5646c12-810e-4683-88e9-65d29429c6a7",
   "metadata": {},
   "outputs": [
    {
     "data": {
      "text/plain": [
       "Row 1    0\n",
       "Row 2    0\n",
       "Row 3    0\n",
       "Name: Science, dtype: int32"
      ]
     },
     "execution_count": 7,
     "metadata": {},
     "output_type": "execute_result"
    }
   ],
   "source": [
    "df['Science']"
   ]
  },
  {
   "cell_type": "code",
   "execution_count": 8,
   "id": "97affdd3-53d0-4e9b-9923-978ebae82fde",
   "metadata": {},
   "outputs": [],
   "source": [
    "df['Science'][0] = 45"
   ]
  },
  {
   "cell_type": "code",
   "execution_count": 9,
   "id": "04b7ee62-f040-42b5-bcd0-719735483fec",
   "metadata": {},
   "outputs": [],
   "source": [
    "df['Maths'][1] = 100"
   ]
  },
  {
   "cell_type": "code",
   "execution_count": 10,
   "id": "f5d6185a-5652-484a-9195-5f7f45dbcf21",
   "metadata": {},
   "outputs": [
    {
     "data": {
      "text/html": [
       "<div>\n",
       "<style scoped>\n",
       "    .dataframe tbody tr th:only-of-type {\n",
       "        vertical-align: middle;\n",
       "    }\n",
       "\n",
       "    .dataframe tbody tr th {\n",
       "        vertical-align: top;\n",
       "    }\n",
       "\n",
       "    .dataframe thead th {\n",
       "        text-align: right;\n",
       "    }\n",
       "</style>\n",
       "<table border=\"1\" class=\"dataframe\">\n",
       "  <thead>\n",
       "    <tr style=\"text-align: right;\">\n",
       "      <th></th>\n",
       "      <th>Science</th>\n",
       "      <th>Maths</th>\n",
       "    </tr>\n",
       "  </thead>\n",
       "  <tbody>\n",
       "    <tr>\n",
       "      <th>Row 1</th>\n",
       "      <td>45</td>\n",
       "      <td>0</td>\n",
       "    </tr>\n",
       "    <tr>\n",
       "      <th>Row 2</th>\n",
       "      <td>0</td>\n",
       "      <td>100</td>\n",
       "    </tr>\n",
       "    <tr>\n",
       "      <th>Row 3</th>\n",
       "      <td>0</td>\n",
       "      <td>0</td>\n",
       "    </tr>\n",
       "  </tbody>\n",
       "</table>\n",
       "</div>"
      ],
      "text/plain": [
       "       Science  Maths\n",
       "Row 1       45      0\n",
       "Row 2        0    100\n",
       "Row 3        0      0"
      ]
     },
     "execution_count": 10,
     "metadata": {},
     "output_type": "execute_result"
    }
   ],
   "source": [
    "df"
   ]
  },
  {
   "cell_type": "code",
   "execution_count": 11,
   "id": "bf1e67a7-22e7-4f93-8de6-7124b38c99ab",
   "metadata": {},
   "outputs": [
    {
     "data": {
      "text/plain": [
       "(3, 2)"
      ]
     },
     "execution_count": 11,
     "metadata": {},
     "output_type": "execute_result"
    }
   ],
   "source": [
    "df.shape"
   ]
  },
  {
   "cell_type": "code",
   "execution_count": null,
   "id": "b3e21cc7-c746-474e-a00b-60b835a20cf5",
   "metadata": {},
   "outputs": [],
   "source": []
  }
 ],
 "metadata": {
  "kernelspec": {
   "display_name": "Python 3 (ipykernel)",
   "language": "python",
   "name": "python3"
  },
  "language_info": {
   "codemirror_mode": {
    "name": "ipython",
    "version": 3
   },
   "file_extension": ".py",
   "mimetype": "text/x-python",
   "name": "python",
   "nbconvert_exporter": "python",
   "pygments_lexer": "ipython3",
   "version": "3.8.12"
  }
 },
 "nbformat": 4,
 "nbformat_minor": 5
}
