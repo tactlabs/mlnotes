{
 "cells": [
  {
   "cell_type": "code",
   "execution_count": 1,
   "id": "bdd6e43e-284b-4474-b903-cf3a28e40139",
   "metadata": {},
   "outputs": [],
   "source": [
    "import numpy as np\n",
    "import pandas as pd\n",
    "import random"
   ]
  },
  {
   "cell_type": "code",
   "execution_count": 2,
   "id": "2741a39e-d8f7-4c8b-bb18-7afdf0fae56c",
   "metadata": {},
   "outputs": [],
   "source": [
    "def xrange(x):\n",
    "    return iter(range(x))"
   ]
  },
  {
   "cell_type": "code",
   "execution_count": 3,
   "id": "18337ad2-399e-4ca3-a5a3-59b934ba8b17",
   "metadata": {},
   "outputs": [],
   "source": [
    "rnd_1 = [random.randrange(1, 20) for x in xrange(10)]"
   ]
  },
  {
   "cell_type": "code",
   "execution_count": 4,
   "id": "64be0335-2e26-4e70-9b25-0a2631938ea8",
   "metadata": {},
   "outputs": [
    {
     "data": {
      "text/plain": [
       "[14, 16, 1, 7, 11, 17, 16, 10, 13, 15]"
      ]
     },
     "execution_count": 4,
     "metadata": {},
     "output_type": "execute_result"
    }
   ],
   "source": [
    "rnd_1"
   ]
  },
  {
   "cell_type": "code",
   "execution_count": 5,
   "id": "1c18c704-44b5-4eac-b898-8e21fcf498ff",
   "metadata": {},
   "outputs": [],
   "source": [
    "rnd_2 = [random.randrange(1, 20) for x in xrange(10)]"
   ]
  },
  {
   "cell_type": "code",
   "execution_count": 6,
   "id": "9cc16dfb-3ca2-421d-a20f-09ee13c0c21f",
   "metadata": {},
   "outputs": [
    {
     "data": {
      "text/plain": [
       "[9, 7, 11, 2, 6, 8, 13, 11, 10, 11]"
      ]
     },
     "execution_count": 6,
     "metadata": {},
     "output_type": "execute_result"
    }
   ],
   "source": [
    "rnd_2"
   ]
  },
  {
   "cell_type": "code",
   "execution_count": 7,
   "id": "f56843b8-347e-4e21-b293-d19819412362",
   "metadata": {},
   "outputs": [],
   "source": [
    "date = pd.date_range('2018-01-01', '2018-01-10')"
   ]
  },
  {
   "cell_type": "code",
   "execution_count": 8,
   "id": "e5d1d483-63ce-4f5e-b517-f190bc409258",
   "metadata": {},
   "outputs": [],
   "source": [
    "data = pd.DataFrame({\n",
    "    'date' : date,\n",
    "    'rnd_1' : rnd_1,\n",
    "    'rnd_2' : rnd_2\n",
    "})"
   ]
  },
  {
   "cell_type": "code",
   "execution_count": 9,
   "id": "61f1fe42-e6df-4c77-b35d-4f2c63d67ccc",
   "metadata": {},
   "outputs": [
    {
     "data": {
      "text/html": [
       "<div>\n",
       "<style scoped>\n",
       "    .dataframe tbody tr th:only-of-type {\n",
       "        vertical-align: middle;\n",
       "    }\n",
       "\n",
       "    .dataframe tbody tr th {\n",
       "        vertical-align: top;\n",
       "    }\n",
       "\n",
       "    .dataframe thead th {\n",
       "        text-align: right;\n",
       "    }\n",
       "</style>\n",
       "<table border=\"1\" class=\"dataframe\">\n",
       "  <thead>\n",
       "    <tr style=\"text-align: right;\">\n",
       "      <th></th>\n",
       "      <th>date</th>\n",
       "      <th>rnd_1</th>\n",
       "      <th>rnd_2</th>\n",
       "    </tr>\n",
       "  </thead>\n",
       "  <tbody>\n",
       "    <tr>\n",
       "      <th>0</th>\n",
       "      <td>2018-01-01</td>\n",
       "      <td>14</td>\n",
       "      <td>9</td>\n",
       "    </tr>\n",
       "    <tr>\n",
       "      <th>1</th>\n",
       "      <td>2018-01-02</td>\n",
       "      <td>16</td>\n",
       "      <td>7</td>\n",
       "    </tr>\n",
       "    <tr>\n",
       "      <th>2</th>\n",
       "      <td>2018-01-03</td>\n",
       "      <td>1</td>\n",
       "      <td>11</td>\n",
       "    </tr>\n",
       "    <tr>\n",
       "      <th>3</th>\n",
       "      <td>2018-01-04</td>\n",
       "      <td>7</td>\n",
       "      <td>2</td>\n",
       "    </tr>\n",
       "    <tr>\n",
       "      <th>4</th>\n",
       "      <td>2018-01-05</td>\n",
       "      <td>11</td>\n",
       "      <td>6</td>\n",
       "    </tr>\n",
       "    <tr>\n",
       "      <th>5</th>\n",
       "      <td>2018-01-06</td>\n",
       "      <td>17</td>\n",
       "      <td>8</td>\n",
       "    </tr>\n",
       "    <tr>\n",
       "      <th>6</th>\n",
       "      <td>2018-01-07</td>\n",
       "      <td>16</td>\n",
       "      <td>13</td>\n",
       "    </tr>\n",
       "    <tr>\n",
       "      <th>7</th>\n",
       "      <td>2018-01-08</td>\n",
       "      <td>10</td>\n",
       "      <td>11</td>\n",
       "    </tr>\n",
       "    <tr>\n",
       "      <th>8</th>\n",
       "      <td>2018-01-09</td>\n",
       "      <td>13</td>\n",
       "      <td>10</td>\n",
       "    </tr>\n",
       "    <tr>\n",
       "      <th>9</th>\n",
       "      <td>2018-01-10</td>\n",
       "      <td>15</td>\n",
       "      <td>11</td>\n",
       "    </tr>\n",
       "  </tbody>\n",
       "</table>\n",
       "</div>"
      ],
      "text/plain": [
       "        date  rnd_1  rnd_2\n",
       "0 2018-01-01     14      9\n",
       "1 2018-01-02     16      7\n",
       "2 2018-01-03      1     11\n",
       "3 2018-01-04      7      2\n",
       "4 2018-01-05     11      6\n",
       "5 2018-01-06     17      8\n",
       "6 2018-01-07     16     13\n",
       "7 2018-01-08     10     11\n",
       "8 2018-01-09     13     10\n",
       "9 2018-01-10     15     11"
      ]
     },
     "execution_count": 9,
     "metadata": {},
     "output_type": "execute_result"
    }
   ],
   "source": [
    "data"
   ]
  },
  {
   "cell_type": "code",
   "execution_count": null,
   "id": "a82eff74-3f56-44e0-a0b2-a6de3b874fab",
   "metadata": {},
   "outputs": [],
   "source": []
  }
 ],
 "metadata": {
  "kernelspec": {
   "display_name": "Python 3 (ipykernel)",
   "language": "python",
   "name": "python3"
  },
  "language_info": {
   "codemirror_mode": {
    "name": "ipython",
    "version": 3
   },
   "file_extension": ".py",
   "mimetype": "text/x-python",
   "name": "python",
   "nbconvert_exporter": "python",
   "pygments_lexer": "ipython3",
   "version": "3.8.12"
  }
 },
 "nbformat": 4,
 "nbformat_minor": 5
}
